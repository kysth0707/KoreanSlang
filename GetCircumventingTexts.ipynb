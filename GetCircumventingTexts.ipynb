{
 "cells": [
  {
   "attachments": {},
   "cell_type": "markdown",
   "metadata": {},
   "source": [
    "우회한 단어의 본래 단어를 찾는 프로그램"
   ]
  },
  {
   "cell_type": "code",
   "execution_count": 1,
   "metadata": {},
   "outputs": [],
   "source": [
    "CircumventingWordPath = r'E:\\GithubProjects\\KoreanSlang\\datasets\\CircumventingWords.txt'\n",
    "# 우회단어 위치\n",
    "\n",
    "ToHappyWordPath = r'E:\\GithubProjects\\KoreanSlang\\datasets\\ToHappyWords.txt'"
   ]
  },
  {
   "cell_type": "code",
   "execution_count": 5,
   "metadata": {},
   "outputs": [],
   "source": [
    "CircumventText = []\n",
    "with open(CircumventingWordPath, 'r', encoding='utf8') as f:\n",
    "    CircumventText = f.readlines()"
   ]
  },
  {
   "cell_type": "code",
   "execution_count": 8,
   "metadata": {},
   "outputs": [
    {
     "name": "stdout",
     "output_type": "stream",
     "text": [
      "ㄱ : ㄱ, ㄲ, R, r\n",
      "ㄴ : ㄴ, L\n",
      "ㄷ : ㄷ, ㄸ, e, E\n",
      "ㄹ : ㄹ, f\n",
      "ㅁ : ㅁ, a\n",
      "ㅂ : ㅂ, ㅃ, q, Q\n",
      "ㅅ : ㅅ, ㅆ, t, T, ^^, ㅅ^, ^ㅅ\n",
      "ㅇ : ㅇ, d, 0, o, O\n",
      "ㅈ : ㅈ, ㅉ, w, W\n",
      "ㅊ : ㅊ, c\n",
      "ㅋ : ㅋ, z\n",
      "ㅌ : ㅌ, x\n",
      "ㅍ : ㅍ, v\n",
      "ㅎ : ㅎ, g\n"
     ]
    }
   ],
   "source": [
    "print(''.join(CircumventText))"
   ]
  },
  {
   "attachments": {},
   "cell_type": "markdown",
   "metadata": {},
   "source": [
    "빠른 처리를 위해 Dictionary(HashTable) 로 데이터 변환"
   ]
  },
  {
   "cell_type": "code",
   "execution_count": 20,
   "metadata": {},
   "outputs": [],
   "source": [
    "def rSpace(txt : str):\n",
    "    return txt.replace(' ','',9999)"
   ]
  },
  {
   "cell_type": "code",
   "execution_count": 25,
   "metadata": {},
   "outputs": [
    {
     "name": "stdout",
     "output_type": "stream",
     "text": [
      "ㄱ ['ㄱ', 'ㄲ', 'R', 'r']\n",
      "ㄴ ['ㄴ', 'L']\n",
      "ㄷ ['ㄷ', 'ㄸ', 'e', 'E']\n",
      "ㄹ ['ㄹ', 'f']\n",
      "ㅁ ['ㅁ', 'a']\n",
      "ㅂ ['ㅂ', 'ㅃ', 'q', 'Q']\n",
      "ㅅ ['ㅅ', 'ㅆ', 't', 'T', '^^', 'ㅅ^', '^ㅅ']\n",
      "ㅇ ['ㅇ', 'd', '0', 'o', 'O']\n",
      "ㅈ ['ㅈ', 'ㅉ', 'w', 'W']\n",
      "ㅊ ['ㅊ', 'c']\n",
      "ㅋ ['ㅋ', 'z']\n",
      "ㅌ ['ㅌ', 'x']\n",
      "ㅍ ['ㅍ', 'v']\n",
      "ㅎ ['ㅎ', 'g']\n"
     ]
    }
   ],
   "source": [
    "Circumvent = {}\n",
    "for txt in CircumventText:\n",
    "    a, b = rSpace(txt).rstrip().split(':')\n",
    "    b=b.split(',')\n",
    "    print(a,b)\n",
    "    for c in b:\n",
    "        Circumvent[c] = a"
   ]
  },
  {
   "cell_type": "code",
   "execution_count": 26,
   "metadata": {},
   "outputs": [
    {
     "data": {
      "text/plain": [
       "{'ㄱ': 'ㄱ',\n",
       " 'ㄲ': 'ㄱ',\n",
       " 'R': 'ㄱ',\n",
       " 'r': 'ㄱ',\n",
       " 'ㄴ': 'ㄴ',\n",
       " 'L': 'ㄴ',\n",
       " 'ㄷ': 'ㄷ',\n",
       " 'ㄸ': 'ㄷ',\n",
       " 'e': 'ㄷ',\n",
       " 'E': 'ㄷ',\n",
       " 'ㄹ': 'ㄹ',\n",
       " 'f': 'ㄹ',\n",
       " 'ㅁ': 'ㅁ',\n",
       " 'a': 'ㅁ',\n",
       " 'ㅂ': 'ㅂ',\n",
       " 'ㅃ': 'ㅂ',\n",
       " 'q': 'ㅂ',\n",
       " 'Q': 'ㅂ',\n",
       " 'ㅅ': 'ㅅ',\n",
       " 'ㅆ': 'ㅅ',\n",
       " 't': 'ㅅ',\n",
       " 'T': 'ㅅ',\n",
       " '^^': 'ㅅ',\n",
       " 'ㅅ^': 'ㅅ',\n",
       " '^ㅅ': 'ㅅ',\n",
       " 'ㅇ': 'ㅇ',\n",
       " 'd': 'ㅇ',\n",
       " '0': 'ㅇ',\n",
       " 'o': 'ㅇ',\n",
       " 'O': 'ㅇ',\n",
       " 'ㅈ': 'ㅈ',\n",
       " 'ㅉ': 'ㅈ',\n",
       " 'w': 'ㅈ',\n",
       " 'W': 'ㅈ',\n",
       " 'ㅊ': 'ㅊ',\n",
       " 'c': 'ㅊ',\n",
       " 'ㅋ': 'ㅋ',\n",
       " 'z': 'ㅋ',\n",
       " 'ㅌ': 'ㅌ',\n",
       " 'x': 'ㅌ',\n",
       " 'ㅍ': 'ㅍ',\n",
       " 'v': 'ㅍ',\n",
       " 'ㅎ': 'ㅎ',\n",
       " 'g': 'ㅎ'}"
      ]
     },
     "execution_count": 26,
     "metadata": {},
     "output_type": "execute_result"
    }
   ],
   "source": [
    "Circumvent"
   ]
  }
 ],
 "metadata": {
  "kernelspec": {
   "display_name": "Python 3",
   "language": "python",
   "name": "python3"
  },
  "language_info": {
   "codemirror_mode": {
    "name": "ipython",
    "version": 3
   },
   "file_extension": ".py",
   "mimetype": "text/x-python",
   "name": "python",
   "nbconvert_exporter": "python",
   "pygments_lexer": "ipython3",
   "version": "3.10.5"
  },
  "orig_nbformat": 4
 },
 "nbformat": 4,
 "nbformat_minor": 2
}
