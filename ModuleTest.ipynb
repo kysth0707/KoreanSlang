{
 "cells": [
  {
   "cell_type": "code",
   "execution_count": 1,
   "metadata": {},
   "outputs": [],
   "source": [
    "import module"
   ]
  },
  {
   "cell_type": "code",
   "execution_count": 2,
   "metadata": {},
   "outputs": [
    {
     "data": {
      "text/plain": [
       "'ㅇㅏㄴㄴㅕㅇ~!'"
      ]
     },
     "execution_count": 2,
     "metadata": {},
     "output_type": "execute_result"
    }
   ],
   "source": [
    "module.splitHan('안녕~!')"
   ]
  },
  {
   "cell_type": "code",
   "execution_count": 3,
   "metadata": {},
   "outputs": [
    {
     "data": {
      "text/plain": [
       "'안녕~!'"
      ]
     },
     "execution_count": 3,
     "metadata": {},
     "output_type": "execute_result"
    }
   ],
   "source": [
    "module.joinHan('ㅇㅏㄴㄴㅕㅇ~!')"
   ]
  },
  {
   "cell_type": "code",
   "execution_count": 4,
   "metadata": {},
   "outputs": [
    {
     "data": {
      "text/plain": [
       "{'ㄱ': 'ㄱ',\n",
       " 'ㄲ': 'ㄱ',\n",
       " 'R': 'ㄱ',\n",
       " 'r': 'ㅏ',\n",
       " 'ㄴ': 'ㄴ',\n",
       " 'L': 'ㄴ',\n",
       " 's': 'ㄴ',\n",
       " 'S': 'ㄴ',\n",
       " 'ㄷ': 'ㄷ',\n",
       " 'ㄸ': 'ㄷ',\n",
       " 'e': 'ㄷ',\n",
       " 'E': 'ㄷ',\n",
       " 'ㄹ': 'ㄹ',\n",
       " 'f': 'ㄹ',\n",
       " 'ㅁ': 'ㅁ',\n",
       " 'a': 'ㅁ',\n",
       " 'ㅂ': 'ㅂ',\n",
       " 'ㅃ': 'ㅂ',\n",
       " 'q': 'ㅂ',\n",
       " 'Q': 'ㅂ',\n",
       " 'ㅅ': 'ㅅ',\n",
       " 'ㅆ': 'ㅅ',\n",
       " 't': 'ㅅ',\n",
       " 'T': 'ㅅ',\n",
       " '^^': 'ㅅ',\n",
       " 'ㅅ^': 'ㅅ',\n",
       " '^ㅅ': 'ㅅ',\n",
       " 'ㅇ': 'ㅇ',\n",
       " 'd': 'ㅇ',\n",
       " '0': 'ㅇ',\n",
       " 'o': 'ㅇ',\n",
       " 'O': 'ㅇ',\n",
       " 'ㅈ': 'ㅈ',\n",
       " 'ㅉ': 'ㅈ',\n",
       " 'w': 'ㅈ',\n",
       " 'W': 'ㅈ',\n",
       " 'ㅊ': 'ㅊ',\n",
       " 'c': 'ㅊ',\n",
       " 'ㅋ': 'ㅋ',\n",
       " 'z': 'ㅋ',\n",
       " 'ㅌ': 'ㅌ',\n",
       " 'x': 'ㅌ',\n",
       " 'ㅍ': 'ㅍ',\n",
       " 'v': 'ㅍ',\n",
       " 'ㅎ': 'ㅎ',\n",
       " 'g': 'ㅎ',\n",
       " '|': 'ㅣ',\n",
       " 'l': 'ㅣ',\n",
       " '1': 'ㅣ',\n",
       " 'ㅏ': 'ㅏ',\n",
       " 'k': 'ㅏ',\n",
       " 'ㅗ': 'ㅗ',\n",
       " 'h': 'ㅗ'}"
      ]
     },
     "execution_count": 4,
     "metadata": {},
     "output_type": "execute_result"
    }
   ],
   "source": [
    "module.getCircumventDict()"
   ]
  },
  {
   "cell_type": "code",
   "execution_count": 5,
   "metadata": {},
   "outputs": [
    {
     "data": {
      "text/plain": [
       "{'느금': False,\n",
       " 'ㄴㄱ': False,\n",
       " '창녀': False,\n",
       " 'ㅊㄴ': False,\n",
       " '따먹': False,\n",
       " 'ㄸㅁ': False,\n",
       " '봉지': False,\n",
       " 'ㅂㅈ': False,\n",
       " '시발': '아니',\n",
       " 'ㅅㅂ': '아니',\n",
       " '씨발': '아니',\n",
       " 'ㅆㅂ': '아니',\n",
       " '좆같다': '기분나쁘다',\n",
       " 'ㅈㄱㄷ': '기분나쁘다',\n",
       " '좆': '성기',\n",
       " 'ㅈ': '성기',\n",
       " '존나': '엄청나게',\n",
       " 'ㅈㄴ': '엄청나게',\n",
       " '대가리': '머리',\n",
       " 'ㄷㄱㄹ': '머리',\n",
       " '뒤진다': '?',\n",
       " 'ㄷㅈㄷ': '?',\n",
       " '년': '분',\n",
       " 'ㄴ': '분',\n",
       " 'ㅄ': '몸이안좋은',\n",
       " '병신': '몸이안좋은',\n",
       " 'ㅂㅅ': '몸이안좋은'}"
      ]
     },
     "execution_count": 5,
     "metadata": {},
     "output_type": "execute_result"
    }
   ],
   "source": [
    "module.getBadToHappyDict()"
   ]
  },
  {
   "cell_type": "code",
   "execution_count": 6,
   "metadata": {},
   "outputs": [
    {
     "data": {
      "text/plain": [
       "'ㅂㄱㅇ'"
      ]
     },
     "execution_count": 6,
     "metadata": {},
     "output_type": "execute_result"
    }
   ],
   "source": [
    "module.getChoseong('반가웡')"
   ]
  },
  {
   "cell_type": "code",
   "execution_count": 7,
   "metadata": {},
   "outputs": [
    {
     "data": {
      "text/plain": [
       "'와ㅈㅗㄴ나쎄ㅅㅣㅂㅏㄹ;ㅈㅗㅈ같ㄷㅏ'"
      ]
     },
     "execution_count": 7,
     "metadata": {},
     "output_type": "execute_result"
    }
   ],
   "source": [
    "circumventDict = module.getCircumventDict()\n",
    "restoredText = module.restoreSplitedWord(\"와whs나쎄tlqkf;whw같ek\", circumventDict)\n",
    "restoredText"
   ]
  },
  {
   "cell_type": "code",
   "execution_count": 8,
   "metadata": {},
   "outputs": [
    {
     "data": {
      "text/plain": [
       "'와존나쎄시발;좆같다'"
      ]
     },
     "execution_count": 8,
     "metadata": {},
     "output_type": "execute_result"
    }
   ],
   "source": [
    "joinedJamo = module.join_jamos(restoredText)\n",
    "joinedJamo"
   ]
  },
  {
   "cell_type": "code",
   "execution_count": 9,
   "metadata": {},
   "outputs": [],
   "source": [
    "badToHappyDict = module.getBadToHappyDict()"
   ]
  },
  {
   "cell_type": "code",
   "execution_count": 10,
   "metadata": {},
   "outputs": [
    {
     "data": {
      "text/plain": [
       "[(4, '시발', '아니'), (7, '좆같다', '기분나쁘다'), (7, '좆', '성기'), (1, '존나', '엄청나게')]"
      ]
     },
     "execution_count": 10,
     "metadata": {},
     "output_type": "execute_result"
    }
   ],
   "source": [
    "checkedBadwords = []\n",
    "for a in badToHappyDict.keys():\n",
    "    if a in joinedJamo:\n",
    "    \tcheckedBadwords.append((joinedJamo.find(a), a, badToHappyDict[a]))\n",
    "checkedBadwords"
   ]
  },
  {
   "cell_type": "code",
   "execution_count": 11,
   "metadata": {},
   "outputs": [
    {
     "data": {
      "text/plain": [
       "[(1, '존나', '엄청나게'), (4, '시발', '아니'), (7, '좆같다', '기분나쁘다'), (7, '좆', '성기')]"
      ]
     },
     "execution_count": 11,
     "metadata": {},
     "output_type": "execute_result"
    }
   ],
   "source": [
    "checkedBadwords.sort(key=lambda x : x[0])\n",
    "checkedBadwords"
   ]
  },
  {
   "cell_type": "code",
   "execution_count": 12,
   "metadata": {},
   "outputs": [
    {
     "data": {
      "text/plain": [
       "[(1, '존나', '엄청나게'), (4, '시발', '아니'), (7, '좆같다', '기분나쁘다')]"
      ]
     },
     "execution_count": 12,
     "metadata": {},
     "output_type": "execute_result"
    }
   ],
   "source": [
    "newCheckedBadwords = []\n",
    "i = 0\n",
    "while True:\n",
    "\tif i >= len(checkedBadwords):\n",
    "\t\tbreak\n",
    "\ta = checkedBadwords[i]\n",
    "\tzipIt = []\n",
    "\tzipIt.append(a)\n",
    "\tii = 0\n",
    "\twhile True:\n",
    "\t\tii += 1\n",
    "\t\tif ii + i >= len(checkedBadwords):\n",
    "\t\t\tbreak\n",
    "\t\tb = checkedBadwords[i + ii]\n",
    "\t\tif a[0] != b[0]:\n",
    "\t\t\tbreak\n",
    "\t\telse:\n",
    "\t\t\tzipIt.append(b)\n",
    "\t\t\ti+=1\n",
    "\t\t\tii-=1\n",
    "\tif len(zipIt) != 1:\n",
    "\t\tnewCheckedBadwords.append(sorted(zipIt, key=lambda x : len(x[1]), reverse=True)[0])\n",
    "\telse:\n",
    "\t\tnewCheckedBadwords.append(zipIt[0])\n",
    "\ti+=1\n",
    "newCheckedBadwords"
   ]
  },
  {
   "cell_type": "code",
   "execution_count": 13,
   "metadata": {},
   "outputs": [
    {
     "data": {
      "text/plain": [
       "[0, 1, 3, 4, 6, 7, 10, 10]"
      ]
     },
     "execution_count": 13,
     "metadata": {},
     "output_type": "execute_result"
    }
   ],
   "source": [
    "splitPoses = []\n",
    "for item in newCheckedBadwords:\n",
    "    start,end=item[0], item[0] + len(item[1])\n",
    "    # print(joinedJamo[start:end])\n",
    "    splitPoses.append(start)\n",
    "    splitPoses.append(end)\n",
    "    \n",
    "if splitPoses[0] != 0:\n",
    "    splitPoses.insert(0, 0)\n",
    "if splitPoses[:-1] != len(joinedJamo):\n",
    "    splitPoses.append(len(joinedJamo))\n",
    "splitPoses"
   ]
  },
  {
   "cell_type": "code",
   "execution_count": 14,
   "metadata": {},
   "outputs": [
    {
     "data": {
      "text/plain": [
       "['와', '엄청나게', '쎄', '아니', ';', '기분나쁘다', '']"
      ]
     },
     "execution_count": 14,
     "metadata": {},
     "output_type": "execute_result"
    }
   ],
   "source": [
    "canSend = True\n",
    "\n",
    "toGoodWords = []\n",
    "for i in range(len(splitPoses) - 1):\n",
    "\ttxt = joinedJamo[splitPoses[i] : splitPoses[i+1]]\n",
    "\tif badToHappyDict.get(txt) == False:\n",
    "\t\tcanSend = False\n",
    "\telif badToHappyDict.get(txt) == None:\n",
    "\t\ttoGoodWords.append(txt)\n",
    "\telse:\n",
    "\t\ttoGoodWords.append(badToHappyDict[txt])\n",
    "toGoodWords"
   ]
  },
  {
   "cell_type": "code",
   "execution_count": 15,
   "metadata": {},
   "outputs": [
    {
     "data": {
      "text/plain": [
       "'와엄청나게쎄아니;기분나쁘다'"
      ]
     },
     "execution_count": 15,
     "metadata": {},
     "output_type": "execute_result"
    }
   ],
   "source": [
    "\"\".join(toGoodWords)"
   ]
  },
  {
   "cell_type": "code",
   "execution_count": 16,
   "metadata": {},
   "outputs": [
    {
     "data": {
      "text/plain": [
       "('와존나쎄시발;좆같다', '그외')"
      ]
     },
     "execution_count": 16,
     "metadata": {},
     "output_type": "execute_result"
    }
   ],
   "source": [
    "badToHappyDict = module.getBadToHappyDict()\n",
    "module.toHappyWord(joinedJamo, badToHappyDict)"
   ]
  },
  {
   "cell_type": "code",
   "execution_count": 17,
   "metadata": {},
   "outputs": [
    {
     "data": {
      "text/plain": [
       "('와엄청나게쎄아니;기분나쁘다', True)"
      ]
     },
     "execution_count": 17,
     "metadata": {},
     "output_type": "execute_result"
    }
   ],
   "source": [
    "module.toHappyWriting(joinedJamo, badToHappyDict)"
   ]
  },
  {
   "cell_type": "code",
   "execution_count": 18,
   "metadata": {},
   "outputs": [
    {
     "data": {
      "text/plain": [
       "('비속어', '패드립', '그외')"
      ]
     },
     "execution_count": 18,
     "metadata": {},
     "output_type": "execute_result"
    }
   ],
   "source": [
    "module.BADWORD, module.PADRIP, module.ELSE"
   ]
  }
 ],
 "metadata": {
  "kernelspec": {
   "display_name": "Python 3",
   "language": "python",
   "name": "python3"
  },
  "language_info": {
   "codemirror_mode": {
    "name": "ipython",
    "version": 3
   },
   "file_extension": ".py",
   "mimetype": "text/x-python",
   "name": "python",
   "nbconvert_exporter": "python",
   "pygments_lexer": "ipython3",
   "version": "3.10.5"
  },
  "orig_nbformat": 4
 },
 "nbformat": 4,
 "nbformat_minor": 2
}
