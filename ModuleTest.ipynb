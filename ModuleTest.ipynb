{
 "cells": [
  {
   "cell_type": "code",
   "execution_count": 1,
   "metadata": {},
   "outputs": [],
   "source": [
    "import module"
   ]
  },
  {
   "cell_type": "code",
   "execution_count": 2,
   "metadata": {},
   "outputs": [
    {
     "data": {
      "text/plain": [
       "['splitHan', 'joinHan', 'getCircumventDict', 'getBadToHappyDict']"
      ]
     },
     "execution_count": 2,
     "metadata": {},
     "output_type": "execute_result"
    }
   ],
   "source": [
    "module.__all__"
   ]
  },
  {
   "cell_type": "code",
   "execution_count": 3,
   "metadata": {},
   "outputs": [
    {
     "data": {
      "text/plain": [
       "'ㅇㅏㄴㄴㅕㅇ~!'"
      ]
     },
     "execution_count": 3,
     "metadata": {},
     "output_type": "execute_result"
    }
   ],
   "source": [
    "module.splitHan('안녕~!')"
   ]
  },
  {
   "cell_type": "code",
   "execution_count": 4,
   "metadata": {},
   "outputs": [
    {
     "data": {
      "text/plain": [
       "'안녕~!'"
      ]
     },
     "execution_count": 4,
     "metadata": {},
     "output_type": "execute_result"
    }
   ],
   "source": [
    "module.joinHan('ㅇㅏㄴㄴㅕㅇ~!')"
   ]
  },
  {
   "cell_type": "code",
   "execution_count": 5,
   "metadata": {},
   "outputs": [
    {
     "data": {
      "text/plain": [
       "{'ㄱ': 'ㄱ',\n",
       " 'ㄲ': 'ㄱ',\n",
       " 'R': 'ㄱ',\n",
       " 'r': 'ㄱ',\n",
       " 'ㄴ': 'ㄴ',\n",
       " 'L': 'ㄴ',\n",
       " 'ㄷ': 'ㄷ',\n",
       " 'ㄸ': 'ㄷ',\n",
       " 'e': 'ㄷ',\n",
       " 'E': 'ㄷ',\n",
       " 'ㄹ': 'ㄹ',\n",
       " 'f': 'ㄹ',\n",
       " 'ㅁ': 'ㅁ',\n",
       " 'a': 'ㅁ',\n",
       " 'ㅂ': 'ㅂ',\n",
       " 'ㅃ': 'ㅂ',\n",
       " 'q': 'ㅂ',\n",
       " 'Q': 'ㅂ',\n",
       " 'ㅅ': 'ㅅ',\n",
       " 'ㅆ': 'ㅅ',\n",
       " 't': 'ㅅ',\n",
       " 'T': 'ㅅ',\n",
       " '^^': 'ㅅ',\n",
       " 'ㅅ^': 'ㅅ',\n",
       " '^ㅅ': 'ㅅ',\n",
       " 'ㅇ': 'ㅇ',\n",
       " 'd': 'ㅇ',\n",
       " '0': 'ㅇ',\n",
       " 'o': 'ㅇ',\n",
       " 'O': 'ㅇ',\n",
       " 'ㅈ': 'ㅈ',\n",
       " 'ㅉ': 'ㅈ',\n",
       " 'w': 'ㅈ',\n",
       " 'W': 'ㅈ',\n",
       " 'ㅊ': 'ㅊ',\n",
       " 'c': 'ㅊ',\n",
       " 'ㅋ': 'ㅋ',\n",
       " 'z': 'ㅋ',\n",
       " 'ㅌ': 'ㅌ',\n",
       " 'x': 'ㅌ',\n",
       " 'ㅍ': 'ㅍ',\n",
       " 'v': 'ㅍ',\n",
       " 'ㅎ': 'ㅎ',\n",
       " 'g': 'ㅎ',\n",
       " '|': 'ㅣ',\n",
       " 'l': 'ㅣ',\n",
       " '1': 'ㅣ'}"
      ]
     },
     "execution_count": 5,
     "metadata": {},
     "output_type": "execute_result"
    }
   ],
   "source": [
    "module.getCircumventDict()"
   ]
  },
  {
   "cell_type": "code",
   "execution_count": 6,
   "metadata": {},
   "outputs": [
    {
     "data": {
      "text/plain": [
       "{'느금마': False, '느금': False, '씨발': '아니', '시발': '아니'}"
      ]
     },
     "execution_count": 6,
     "metadata": {},
     "output_type": "execute_result"
    }
   ],
   "source": [
    "module.getBadToHappyDict()"
   ]
  }
 ],
 "metadata": {
  "kernelspec": {
   "display_name": "Python 3",
   "language": "python",
   "name": "python3"
  },
  "language_info": {
   "codemirror_mode": {
    "name": "ipython",
    "version": 3
   },
   "file_extension": ".py",
   "mimetype": "text/x-python",
   "name": "python",
   "nbconvert_exporter": "python",
   "pygments_lexer": "ipython3",
   "version": "3.10.5"
  },
  "orig_nbformat": 4
 },
 "nbformat": 4,
 "nbformat_minor": 2
}
