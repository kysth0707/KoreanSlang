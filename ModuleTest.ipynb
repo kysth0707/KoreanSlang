{
 "cells": [
  {
   "cell_type": "code",
   "execution_count": 46,
   "metadata": {},
   "outputs": [],
   "source": [
    "import module"
   ]
  },
  {
   "cell_type": "code",
   "execution_count": 47,
   "metadata": {},
   "outputs": [
    {
     "data": {
      "text/plain": [
       "'ㅇㅏㄴㄴㅕㅇ~!'"
      ]
     },
     "execution_count": 47,
     "metadata": {},
     "output_type": "execute_result"
    }
   ],
   "source": [
    "module.splitHan('안녕~!')"
   ]
  },
  {
   "cell_type": "code",
   "execution_count": 48,
   "metadata": {},
   "outputs": [
    {
     "data": {
      "text/plain": [
       "'안녕~!'"
      ]
     },
     "execution_count": 48,
     "metadata": {},
     "output_type": "execute_result"
    }
   ],
   "source": [
    "module.joinHan('ㅇㅏㄴㄴㅕㅇ~!')"
   ]
  },
  {
   "cell_type": "code",
   "execution_count": 49,
   "metadata": {},
   "outputs": [
    {
     "data": {
      "text/plain": [
       "{'ㄱ': 'ㄱ',\n",
       " 'ㄲ': 'ㄱ',\n",
       " 'R': 'ㄱ',\n",
       " 'r': 'ㅏ',\n",
       " 'ㄴ': 'ㄴ',\n",
       " 'L': 'ㄴ',\n",
       " 'ㄷ': 'ㄷ',\n",
       " 'ㄸ': 'ㄷ',\n",
       " 'e': 'E',\n",
       " 'E': 'E',\n",
       " 'ㄹ': 'ㄹ',\n",
       " 'f': 'ㄹ',\n",
       " 'ㅁ': 'ㅁ',\n",
       " 'a': 'ㅁ',\n",
       " 'ㅂ': 'ㅂ',\n",
       " 'ㅃ': 'ㅂ',\n",
       " 'q': 'ㅂ',\n",
       " 'Q': 'ㅂ',\n",
       " 'ㅅ': 'ㅅ',\n",
       " 'ㅆ': 'ㅅ',\n",
       " 't': 'ㅅ',\n",
       " 'T': 'ㅅ',\n",
       " '^^': 'ㅅ',\n",
       " 'ㅅ^': 'ㅅ',\n",
       " '^ㅅ': 'ㅅ',\n",
       " 'ㅇ': 'ㅇ',\n",
       " 'd': 'ㅇ',\n",
       " '0': 'ㅇ',\n",
       " 'o': 'ㅇ',\n",
       " 'O': 'ㅇ',\n",
       " 'ㅈ': 'ㅈ',\n",
       " 'ㅉ': 'ㅈ',\n",
       " 'w': 'ㅈ',\n",
       " 'W': 'ㅈ',\n",
       " 'ㅊ': 'ㅊ',\n",
       " 'c': 'ㅊ',\n",
       " 'ㅋ': 'ㅋ',\n",
       " 'z': 'ㅋ',\n",
       " 'ㅌ': 'ㅌ',\n",
       " 'x': 'ㅌ',\n",
       " 'ㅍ': 'ㅍ',\n",
       " 'v': 'ㅍ',\n",
       " 'ㅎ': 'ㅎ',\n",
       " 'g': 'ㅎ',\n",
       " '|': 'ㅣ',\n",
       " 'l': 'ㅣ',\n",
       " '1': 'ㅣ',\n",
       " 'ㅏ': 'ㅏ',\n",
       " 'k': 'ㅏ',\n",
       " 'ㅗ': 'ㅗ',\n",
       " 'h': 'ㅗ',\n",
       " 'S': 'S',\n",
       " 's': 'S',\n",
       " '$': 'S'}"
      ]
     },
     "execution_count": 49,
     "metadata": {},
     "output_type": "execute_result"
    }
   ],
   "source": [
    "module.getCircumventDict()"
   ]
  },
  {
   "cell_type": "code",
   "execution_count": 50,
   "metadata": {},
   "outputs": [
    {
     "data": {
      "text/plain": [
       "{'느금마': False,\n",
       " 'ㄴㄱㅁ': False,\n",
       " '느금': False,\n",
       " 'ㄴㄱ': False,\n",
       " '씨발': '아니',\n",
       " 'ㅆㅂ': '아니',\n",
       " '시발': '아니',\n",
       " 'ㅅㅂ': '아니',\n",
       " '새끼': '아이',\n",
       " 'ㅅㄲ': '아이',\n",
       " 'SEX': False,\n",
       " 'sex': False}"
      ]
     },
     "execution_count": 50,
     "metadata": {},
     "output_type": "execute_result"
    }
   ],
   "source": [
    "module.getBadToHappyDict()"
   ]
  },
  {
   "cell_type": "code",
   "execution_count": 51,
   "metadata": {},
   "outputs": [
    {
     "data": {
      "text/plain": [
       "'ㅂㄱㅇ'"
      ]
     },
     "execution_count": 51,
     "metadata": {},
     "output_type": "execute_result"
    }
   ],
   "source": [
    "module.getChoseong('반가웡')"
   ]
  },
  {
   "cell_type": "code",
   "execution_count": 52,
   "metadata": {},
   "outputs": [
    {
     "data": {
      "text/plain": [
       "'가나다ㄴㄱㅁ라마바'"
      ]
     },
     "execution_count": 52,
     "metadata": {},
     "output_type": "execute_result"
    }
   ],
   "source": [
    "circumventDict = module.getCircumventDict()\n",
    "restoredText = module.restoreSplitedWord(\"가나다Lㄱㅁ라마바\", circumventDict)\n",
    "restoredText"
   ]
  },
  {
   "cell_type": "code",
   "execution_count": 53,
   "metadata": {},
   "outputs": [
    {
     "data": {
      "text/plain": [
       "'가나다ㄴㄱㅁ라마바'"
      ]
     },
     "execution_count": 53,
     "metadata": {},
     "output_type": "execute_result"
    }
   ],
   "source": [
    "joinedJamo = module.join_jamos(restoredText)\n",
    "joinedJamo"
   ]
  },
  {
   "cell_type": "code",
   "execution_count": 72,
   "metadata": {},
   "outputs": [
    {
     "data": {
      "text/plain": [
       "[(3, 'ㄴㄱㅁ', False), (3, 'ㄴㄱ', False)]"
      ]
     },
     "execution_count": 72,
     "metadata": {},
     "output_type": "execute_result"
    }
   ],
   "source": [
    "checkedBadwords = []\n",
    "for a in badToHappyDict.keys():\n",
    "    if a in joinedJamo:\n",
    "    \tcheckedBadwords.append((joinedJamo.find(a), a, badToHappyDict[a]))\n",
    "checkedBadwords"
   ]
  },
  {
   "cell_type": "code",
   "execution_count": null,
   "metadata": {},
   "outputs": [],
   "source": [
    "for data in checkedBadwords:\n",
    "    data[0]"
   ]
  },
  {
   "cell_type": "code",
   "execution_count": 55,
   "metadata": {},
   "outputs": [
    {
     "data": {
      "text/plain": [
       "('가나다ㄴㄱㅁ라마바', '그외')"
      ]
     },
     "execution_count": 55,
     "metadata": {},
     "output_type": "execute_result"
    }
   ],
   "source": [
    "badToHappyDict = module.getBadToHappyDict()\n",
    "module.toHappyWord(joinedJamo, badToHappyDict)"
   ]
  },
  {
   "cell_type": "code",
   "execution_count": 56,
   "metadata": {},
   "outputs": [
    {
     "data": {
      "text/plain": [
       "('비속어', '패드립', '그외')"
      ]
     },
     "execution_count": 56,
     "metadata": {},
     "output_type": "execute_result"
    }
   ],
   "source": [
    "module.BADWORD, module.PADRIP, module.ELSE"
   ]
  }
 ],
 "metadata": {
  "kernelspec": {
   "display_name": "Python 3",
   "language": "python",
   "name": "python3"
  },
  "language_info": {
   "codemirror_mode": {
    "name": "ipython",
    "version": 3
   },
   "file_extension": ".py",
   "mimetype": "text/x-python",
   "name": "python",
   "nbconvert_exporter": "python",
   "pygments_lexer": "ipython3",
   "version": "3.10.5"
  },
  "orig_nbformat": 4
 },
 "nbformat": 4,
 "nbformat_minor": 2
}
