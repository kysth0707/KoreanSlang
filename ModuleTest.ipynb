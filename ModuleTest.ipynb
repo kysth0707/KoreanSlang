{
 "cells": [
  {
   "cell_type": "code",
   "execution_count": 14,
   "metadata": {},
   "outputs": [],
   "source": [
    "import module"
   ]
  },
  {
   "cell_type": "code",
   "execution_count": 15,
   "metadata": {},
   "outputs": [
    {
     "data": {
      "text/plain": [
       "'ㅇㅏㄴㄴㅕㅇ~!'"
      ]
     },
     "execution_count": 15,
     "metadata": {},
     "output_type": "execute_result"
    }
   ],
   "source": [
    "module.splitHan('안녕~!')"
   ]
  },
  {
   "cell_type": "code",
   "execution_count": 16,
   "metadata": {},
   "outputs": [
    {
     "data": {
      "text/plain": [
       "'안녕~!'"
      ]
     },
     "execution_count": 16,
     "metadata": {},
     "output_type": "execute_result"
    }
   ],
   "source": [
    "module.joinHan('ㅇㅏㄴㄴㅕㅇ~!')"
   ]
  },
  {
   "cell_type": "code",
   "execution_count": 17,
   "metadata": {},
   "outputs": [
    {
     "data": {
      "text/plain": [
       "{'ㄱ': ['ㄱ'],\n",
       " 'ㄲ': ['ㄱ'],\n",
       " 'R': ['ㄱ', 'ㄹ'],\n",
       " 'r': ['ㄱ', 'ㄹ', 'ㅏ'],\n",
       " '7': ['ㄱ'],\n",
       " '77': ['ㄱ'],\n",
       " 'ㄴ': ['ㄴ'],\n",
       " 'L': ['ㄴ'],\n",
       " 's': ['ㄴ'],\n",
       " 'S': ['ㄴ'],\n",
       " 'ㄷ': ['ㄷ'],\n",
       " 'ㄸ': ['ㄷ'],\n",
       " 'e': ['ㄷ'],\n",
       " 'E': ['ㄷ'],\n",
       " 'D': ['ㄷ'],\n",
       " 'ㄹ': ['ㄹ'],\n",
       " 'f': ['ㄹ'],\n",
       " 'F': ['ㄹ'],\n",
       " 'ㅁ': ['ㅁ'],\n",
       " 'a': ['ㅁ'],\n",
       " 'ㅂ': ['ㅂ'],\n",
       " 'ㅃ': ['ㅂ'],\n",
       " 'q': ['ㅂ'],\n",
       " 'Q': ['ㅂ'],\n",
       " 'ㅅ': ['ㅅ'],\n",
       " 'ㅆ': ['ㅅ'],\n",
       " 't': ['ㅅ'],\n",
       " 'T': ['ㅅ'],\n",
       " '^^': ['ㅅ'],\n",
       " 'ㅅ^': ['ㅅ'],\n",
       " '^ㅅ': ['ㅅ'],\n",
       " 'ss': ['ㅅ'],\n",
       " '$': ['ㅅ'],\n",
       " '^': ['ㅅ'],\n",
       " 'ㅇ': ['ㅇ'],\n",
       " 'd': ['ㅇ'],\n",
       " '0': ['ㅇ'],\n",
       " 'o': ['ㅇ', 'ㅐ'],\n",
       " 'O': ['ㅇ', 'ㅐ'],\n",
       " '@': ['ㅇ'],\n",
       " 'ㅈ': ['ㅈ'],\n",
       " 'ㅉ': ['ㅈ'],\n",
       " 'w': ['ㅈ'],\n",
       " 'W': ['ㅈ'],\n",
       " 'j': ['ㅈ'],\n",
       " 'ㅊ': ['ㅊ'],\n",
       " 'c': ['ㅊ'],\n",
       " 'ㅋ': ['ㅋ'],\n",
       " 'z': ['ㅋ'],\n",
       " 'ㅌ': ['ㅌ'],\n",
       " 'x': ['ㅌ'],\n",
       " 'ㅍ': ['ㅍ'],\n",
       " 'v': ['ㅍ'],\n",
       " 'ㅎ': ['ㅎ'],\n",
       " 'g': ['ㅎ'],\n",
       " '|': ['ㅣ', 'ㅣ'],\n",
       " 'l': ['ㅣ'],\n",
       " '1': ['ㅣ'],\n",
       " '!': ['ㅣ'],\n",
       " 'i': ['ㅣ'],\n",
       " '': ['ㅣ'],\n",
       " 'ㅏ': ['ㅏ'],\n",
       " 'k': ['ㅏ'],\n",
       " 'ㅗ': ['ㅗ'],\n",
       " 'h': ['ㅗ'],\n",
       " 'ㅐ': ['ㅐ']}"
      ]
     },
     "execution_count": 17,
     "metadata": {},
     "output_type": "execute_result"
    }
   ],
   "source": [
    "module.getCircumventDict()"
   ]
  },
  {
   "cell_type": "code",
   "execution_count": 18,
   "metadata": {},
   "outputs": [
    {
     "data": {
      "text/plain": [
       "{'느금': False,\n",
       " 'ㄴㄱ': False,\n",
       " '창녀': False,\n",
       " 'ㅊㄴ': False,\n",
       " '따먹': False,\n",
       " 'ㄸㅁ': False,\n",
       " '봉지': False,\n",
       " 'ㅂㅈ': False,\n",
       " '시발': '아니',\n",
       " 'ㅅㅂ': '아니',\n",
       " '시바': '아니',\n",
       " '씨발': '아니',\n",
       " 'ㅆㅂ': '아니',\n",
       " '개': '정말',\n",
       " '좆같다': '기분나쁘다',\n",
       " 'ㅈ같다': '기분나쁘다',\n",
       " '좆': '성기',\n",
       " '존나': '엄청나게',\n",
       " 'ㅈㄴ': '엄청나게',\n",
       " '대가리': '머리',\n",
       " 'ㄷㄱㄹ': '머리',\n",
       " '뒤진다': '?',\n",
       " '년': '분',\n",
       " 'ㅄ': '몸이안좋은',\n",
       " '병신': '몸이안좋은',\n",
       " 'ㅂㅅ': '몸이안좋은'}"
      ]
     },
     "execution_count": 18,
     "metadata": {},
     "output_type": "execute_result"
    }
   ],
   "source": [
    "module.getBadToHappyDict()"
   ]
  },
  {
   "cell_type": "code",
   "execution_count": 19,
   "metadata": {},
   "outputs": [
    {
     "data": {
      "text/plain": [
       "'ㅂㄱㅇ'"
      ]
     },
     "execution_count": 19,
     "metadata": {},
     "output_type": "execute_result"
    }
   ],
   "source": [
    "module.getChoseong('반가웡')"
   ]
  },
  {
   "cell_type": "code",
   "execution_count": 20,
   "metadata": {},
   "outputs": [
    {
     "data": {
      "text/plain": [
       "(['ㅇ',\n",
       "  'ㅘ',\n",
       "  'ㅈ',\n",
       "  'ㅗ',\n",
       "  'ㄴ',\n",
       "  'ㄴ',\n",
       "  'ㅏ',\n",
       "  'ㅅ',\n",
       "  'ㅔ',\n",
       "  'ㅅ',\n",
       "  'ㅣ',\n",
       "  'ㅂ',\n",
       "  'ㅏ',\n",
       "  'ㄹ',\n",
       "  ';',\n",
       "  ['ㄱ', 'ㄹ', 'ㅏ'],\n",
       "  ['ㅇ', 'ㅐ'],\n",
       "  'ㅈ',\n",
       "  'ㅗ',\n",
       "  'ㅈ',\n",
       "  ['ㄱ', 'ㄹ', 'ㅏ'],\n",
       "  'ㅏ',\n",
       "  'ㅌ',\n",
       "  'ㄷ',\n",
       "  'ㅏ',\n",
       "  'ㄹ',\n",
       "  'ㅇ'],\n",
       " [3, 2, 3])"
      ]
     },
     "execution_count": 20,
     "metadata": {},
     "output_type": "execute_result"
    }
   ],
   "source": [
    "circumventDict = module.getCircumventDict()\n",
    "originalText = \"와whs나쎄tlqkf;rowhwrkxekㄹㅇ\"\n",
    "originalText = module.splitHan(originalText)\n",
    "# originalText = \"와whs나쎄tlqkf;whw같ek\"\n",
    "\n",
    "boolBoxLen = []\n",
    "recoveredText = []\n",
    "for txt in originalText:\n",
    "\tif circumventDict.get(txt) == None:\n",
    "\t\trecoveredText.append(txt)\n",
    "\telse:\n",
    "\t\ta = circumventDict.get(txt)\n",
    "\t\tif len(a) == 1:\n",
    "\t\t\trecoveredText.append(a[0])\n",
    "\t\telse:\n",
    "\t\t\tboolBoxLen.append(len(a))\n",
    "\t\t\trecoveredText.append(a)\n",
    "recoveredText, boolBoxLen"
   ]
  },
  {
   "cell_type": "code",
   "execution_count": 21,
   "metadata": {},
   "outputs": [
    {
     "data": {
      "text/plain": [
       "['ㅇㅘㅈㅗㄴㄴㅏㅅㅔㅅㅣㅂㅏㄹ;',\n",
       " ['ㄱ', 'ㄹ', 'ㅏ'],\n",
       " ['ㅇ', 'ㅐ'],\n",
       " 'ㅈㅗㅈ',\n",
       " ['ㄱ', 'ㄹ', 'ㅏ'],\n",
       " 'ㅏㅌㄷㅏㄹㅇ']"
      ]
     },
     "execution_count": 21,
     "metadata": {},
     "output_type": "execute_result"
    }
   ],
   "source": [
    "newRecoveredText = []\n",
    "lastNum = 0\n",
    "for i, txt in enumerate(recoveredText):\n",
    "\tif type(txt) == list:\n",
    "\t\tif lastNum - i != 0:\n",
    "\t\t\tnewRecoveredText.append(\"\".join(recoveredText[lastNum:i]))\n",
    "\t\tnewRecoveredText.append(recoveredText[i])\n",
    "\t\tlastNum = i+1\n",
    "if lastNum - len(recoveredText) - 1 != 0:\n",
    "\tnewRecoveredText.append(\"\".join(recoveredText[lastNum:len(recoveredText)]))\n",
    "newRecoveredText"
   ]
  },
  {
   "cell_type": "code",
   "execution_count": 22,
   "metadata": {},
   "outputs": [
    {
     "data": {
      "text/plain": [
       "[1, 2, 4]"
      ]
     },
     "execution_count": 22,
     "metadata": {},
     "output_type": "execute_result"
    }
   ],
   "source": [
    "listPoses = []\n",
    "for i, item in enumerate(newRecoveredText):\n",
    "    if type(item) == list:\n",
    "        listPoses.append(i)\n",
    "listPoses"
   ]
  },
  {
   "cell_type": "code",
   "execution_count": 23,
   "metadata": {},
   "outputs": [
    {
     "data": {
      "text/plain": [
       "('와엄청나게세아니;정말성기같달ㅇ', True, 6)"
      ]
     },
     "execution_count": 23,
     "metadata": {},
     "output_type": "execute_result"
    }
   ],
   "source": [
    "badToHappyDict = module.getBadToHappyDict()\n",
    "fullCount = 1\n",
    "for x in boolBoxLen:\n",
    "\tfullCount *= x\n",
    "\n",
    "convertedTxts = []\n",
    "intBox = [0 for _ in range(len(boolBoxLen))]\n",
    "for _ in range(fullCount):\n",
    "\tfor i in range(len(boolBoxLen)):\n",
    "\t\tif intBox[-i] >= boolBoxLen[-i]:\n",
    "\t\t\tintBox[-i] = 0\n",
    "\t\t\tintBox[-i-1] += 1\n",
    "\ttmp = newRecoveredText.copy()\n",
    "\tfor i in range(len(boolBoxLen)):\n",
    "\t\ttmp[listPoses[i]] = newRecoveredText[listPoses[i]][intBox[i]]\n",
    "\tjoinedJamo = module.joinHan(\"\".join(tmp))\n",
    "\tconvertedTxts.append((module.toHappyWriting(joinedJamo, badToHappyDict), -len(joinedJamo)))\n",
    "\n",
    "\tintBox[-1] += 1\n",
    "convertedText = sorted(convertedTxts, key=lambda x : x[0][2] + x[1], reverse=True)[0][0]\n",
    "convertedText"
   ]
  },
  {
   "attachments": {},
   "cell_type": "markdown",
   "metadata": {},
   "source": []
  },
  {
   "cell_type": "code",
   "execution_count": 24,
   "metadata": {},
   "outputs": [
    {
     "data": {
      "text/plain": [
       "[['와'],\n",
       " ['ㅈ'],\n",
       " ['ㅗ'],\n",
       " ['ㄴ'],\n",
       " ['나'],\n",
       " ['쎄'],\n",
       " ['ㅅ'],\n",
       " ['ㅣ'],\n",
       " ['ㅂ'],\n",
       " ['ㅏ'],\n",
       " ['ㄹ'],\n",
       " [';'],\n",
       " ['ㅈ'],\n",
       " ['ㅗ'],\n",
       " ['ㅈ'],\n",
       " ['같'],\n",
       " ['ㄷ'],\n",
       " ['ㅏ']]"
      ]
     },
     "execution_count": 24,
     "metadata": {},
     "output_type": "execute_result"
    }
   ],
   "source": [
    "circumventDict = module.getCircumventDict()\n",
    "restoredText = module.restoreSplitedWord(\"와whs나쎄tlqkf;whw같ek\", circumventDict)\n",
    "restoredText"
   ]
  },
  {
   "cell_type": "code",
   "execution_count": 25,
   "metadata": {},
   "outputs": [
    {
     "ename": "TypeError",
     "evalue": "unhashable type: 'list'",
     "output_type": "error",
     "traceback": [
      "\u001b[1;31m---------------------------------------------------------------------------\u001b[0m",
      "\u001b[1;31mTypeError\u001b[0m                                 Traceback (most recent call last)",
      "\u001b[1;32me:\\GithubProjects\\KoreanSlang\\ModuleTest.ipynb 셀 13\u001b[0m in \u001b[0;36m1\n\u001b[1;32m----> <a href='vscode-notebook-cell:/e%3A/GithubProjects/KoreanSlang/ModuleTest.ipynb#X15sZmlsZQ%3D%3D?line=0'>1</a>\u001b[0m joinedJamo \u001b[39m=\u001b[39m module\u001b[39m.\u001b[39;49mjoin_jamos(restoredText)\n\u001b[0;32m      <a href='vscode-notebook-cell:/e%3A/GithubProjects/KoreanSlang/ModuleTest.ipynb#X15sZmlsZQ%3D%3D?line=1'>2</a>\u001b[0m joinedJamo\n",
      "File \u001b[1;32me:\\GithubProjects\\KoreanSlang\\hanguel_utils\\unicode.py:254\u001b[0m, in \u001b[0;36mjoin_jamos\u001b[1;34m(s, ignore_err)\u001b[0m\n\u001b[0;32m    251\u001b[0m     \u001b[39mreturn\u001b[39;00m result\n\u001b[0;32m    253\u001b[0m \u001b[39mfor\u001b[39;00m c \u001b[39min\u001b[39;00m s:\n\u001b[1;32m--> 254\u001b[0m     \u001b[39mif\u001b[39;00m c \u001b[39mnot\u001b[39;49;00m \u001b[39min\u001b[39;49;00m CHARSET:\n\u001b[0;32m    255\u001b[0m         \u001b[39mif\u001b[39;00m queue:\n\u001b[0;32m    256\u001b[0m             new_c \u001b[39m=\u001b[39m flush() \u001b[39m+\u001b[39m c\n",
      "\u001b[1;31mTypeError\u001b[0m: unhashable type: 'list'"
     ]
    }
   ],
   "source": [
    "joinedJamo = module.join_jamos(restoredText)\n",
    "joinedJamo"
   ]
  },
  {
   "cell_type": "code",
   "execution_count": null,
   "metadata": {},
   "outputs": [],
   "source": [
    "badToHappyDict = module.getBadToHappyDict()"
   ]
  },
  {
   "cell_type": "code",
   "execution_count": null,
   "metadata": {},
   "outputs": [
    {
     "data": {
      "text/plain": [
       "[(4, '시발', '아니'), (7, '좆같다', '기분나쁘다'), (7, '좆', '성기'), (1, '존나', '엄청나게')]"
      ]
     },
     "execution_count": 10,
     "metadata": {},
     "output_type": "execute_result"
    }
   ],
   "source": [
    "checkedBadwords = []\n",
    "for a in badToHappyDict.keys():\n",
    "    if a in joinedJamo:\n",
    "    \tcheckedBadwords.append((joinedJamo.find(a), a, badToHappyDict[a]))\n",
    "checkedBadwords"
   ]
  },
  {
   "cell_type": "code",
   "execution_count": null,
   "metadata": {},
   "outputs": [
    {
     "data": {
      "text/plain": [
       "[(1, '존나', '엄청나게'), (4, '시발', '아니'), (7, '좆같다', '기분나쁘다'), (7, '좆', '성기')]"
      ]
     },
     "execution_count": 11,
     "metadata": {},
     "output_type": "execute_result"
    }
   ],
   "source": [
    "checkedBadwords.sort(key=lambda x : x[0])\n",
    "checkedBadwords"
   ]
  },
  {
   "cell_type": "code",
   "execution_count": null,
   "metadata": {},
   "outputs": [
    {
     "data": {
      "text/plain": [
       "[(1, '존나', '엄청나게'), (4, '시발', '아니'), (7, '좆같다', '기분나쁘다')]"
      ]
     },
     "execution_count": 12,
     "metadata": {},
     "output_type": "execute_result"
    }
   ],
   "source": [
    "newCheckedBadwords = []\n",
    "i = 0\n",
    "while True:\n",
    "\tif i >= len(checkedBadwords):\n",
    "\t\tbreak\n",
    "\ta = checkedBadwords[i]\n",
    "\tzipIt = []\n",
    "\tzipIt.append(a)\n",
    "\tii = 0\n",
    "\twhile True:\n",
    "\t\tii += 1\n",
    "\t\tif ii + i >= len(checkedBadwords):\n",
    "\t\t\tbreak\n",
    "\t\tb = checkedBadwords[i + ii]\n",
    "\t\tif a[0] != b[0]:\n",
    "\t\t\tbreak\n",
    "\t\telse:\n",
    "\t\t\tzipIt.append(b)\n",
    "\t\t\ti+=1\n",
    "\t\t\tii-=1\n",
    "\tif len(zipIt) != 1:\n",
    "\t\tnewCheckedBadwords.append(sorted(zipIt, key=lambda x : len(x[1]), reverse=True)[0])\n",
    "\telse:\n",
    "\t\tnewCheckedBadwords.append(zipIt[0])\n",
    "\ti+=1\n",
    "newCheckedBadwords"
   ]
  },
  {
   "cell_type": "code",
   "execution_count": null,
   "metadata": {},
   "outputs": [
    {
     "data": {
      "text/plain": [
       "[0, 1, 3, 4, 6, 7, 10, 10]"
      ]
     },
     "execution_count": 13,
     "metadata": {},
     "output_type": "execute_result"
    }
   ],
   "source": [
    "splitPoses = []\n",
    "for item in newCheckedBadwords:\n",
    "    start,end=item[0], item[0] + len(item[1])\n",
    "    # print(joinedJamo[start:end])\n",
    "    splitPoses.append(start)\n",
    "    splitPoses.append(end)\n",
    "    \n",
    "if splitPoses[0] != 0:\n",
    "    splitPoses.insert(0, 0)\n",
    "if splitPoses[:-1] != len(joinedJamo):\n",
    "    splitPoses.append(len(joinedJamo))\n",
    "splitPoses"
   ]
  },
  {
   "cell_type": "code",
   "execution_count": null,
   "metadata": {},
   "outputs": [
    {
     "data": {
      "text/plain": [
       "['와', '엄청나게', '쎄', '아니', ';', '기분나쁘다', '']"
      ]
     },
     "execution_count": 14,
     "metadata": {},
     "output_type": "execute_result"
    }
   ],
   "source": [
    "canSend = True\n",
    "\n",
    "toGoodWords = []\n",
    "for i in range(len(splitPoses) - 1):\n",
    "\ttxt = joinedJamo[splitPoses[i] : splitPoses[i+1]]\n",
    "\tif badToHappyDict.get(txt) == False:\n",
    "\t\tcanSend = False\n",
    "\telif badToHappyDict.get(txt) == None:\n",
    "\t\ttoGoodWords.append(txt)\n",
    "\telse:\n",
    "\t\ttoGoodWords.append(badToHappyDict[txt])\n",
    "toGoodWords"
   ]
  },
  {
   "cell_type": "code",
   "execution_count": null,
   "metadata": {},
   "outputs": [
    {
     "data": {
      "text/plain": [
       "'와엄청나게쎄아니;기분나쁘다'"
      ]
     },
     "execution_count": 15,
     "metadata": {},
     "output_type": "execute_result"
    }
   ],
   "source": [
    "\"\".join(toGoodWords)"
   ]
  },
  {
   "cell_type": "code",
   "execution_count": null,
   "metadata": {},
   "outputs": [
    {
     "data": {
      "text/plain": [
       "('와존나쎄시발;좆같다', '그외')"
      ]
     },
     "execution_count": 16,
     "metadata": {},
     "output_type": "execute_result"
    }
   ],
   "source": [
    "badToHappyDict = module.getBadToHappyDict()\n",
    "module.toHappyWord(joinedJamo, badToHappyDict)"
   ]
  },
  {
   "cell_type": "code",
   "execution_count": null,
   "metadata": {},
   "outputs": [
    {
     "data": {
      "text/plain": [
       "('와엄청나게쎄아니;기분나쁘다', True)"
      ]
     },
     "execution_count": 17,
     "metadata": {},
     "output_type": "execute_result"
    }
   ],
   "source": [
    "module.toHappyWriting(joinedJamo, badToHappyDict)"
   ]
  },
  {
   "cell_type": "code",
   "execution_count": null,
   "metadata": {},
   "outputs": [
    {
     "data": {
      "text/plain": [
       "('비속어', '패드립', '그외')"
      ]
     },
     "execution_count": 18,
     "metadata": {},
     "output_type": "execute_result"
    }
   ],
   "source": [
    "module.BADWORD, module.PADRIP, module.ELSE"
   ]
  }
 ],
 "metadata": {
  "kernelspec": {
   "display_name": "Python 3",
   "language": "python",
   "name": "python3"
  },
  "language_info": {
   "codemirror_mode": {
    "name": "ipython",
    "version": 3
   },
   "file_extension": ".py",
   "mimetype": "text/x-python",
   "name": "python",
   "nbconvert_exporter": "python",
   "pygments_lexer": "ipython3",
   "version": "3.10.5"
  },
  "orig_nbformat": 4
 },
 "nbformat": 4,
 "nbformat_minor": 2
}
