{
 "cells": [
  {
   "cell_type": "code",
   "execution_count": 213,
   "metadata": {},
   "outputs": [],
   "source": [
    "import module"
   ]
  },
  {
   "cell_type": "code",
   "execution_count": 214,
   "metadata": {},
   "outputs": [
    {
     "data": {
      "text/plain": [
       "'ㅇㅘwhsㄴㅏㅆㅔtlqkf;rowhwrkxek..Lㄱㅁㄹㅇ'"
      ]
     },
     "execution_count": 214,
     "metadata": {},
     "output_type": "execute_result"
    }
   ],
   "source": [
    "circumventDict = module.getCircumventDict()\n",
    "originalText = \"와whs나쎄tlqkf;rowhwrkxek..Lㄱㅁㄹㅇ\"\n",
    "\n",
    "splitHans = module.splitHan(originalText)\n",
    "splitHans"
   ]
  },
  {
   "cell_type": "code",
   "execution_count": 215,
   "metadata": {},
   "outputs": [
    {
     "data": {
      "text/plain": [
       "(['ㅇ',\n",
       "  'ㅘ',\n",
       "  'ㅈ',\n",
       "  'ㅗ',\n",
       "  'ㄴ',\n",
       "  'ㄴ',\n",
       "  'ㅏ',\n",
       "  'ㅅ',\n",
       "  'ㅔ',\n",
       "  'ㅅ',\n",
       "  'ㅣ',\n",
       "  'ㅂ',\n",
       "  'ㅏ',\n",
       "  'ㄹ',\n",
       "  ';',\n",
       "  ['ㄱ', 'ㄹ', 'ㅏ'],\n",
       "  ['ㅇ', 'ㅐ'],\n",
       "  'ㅈ',\n",
       "  'ㅗ',\n",
       "  'ㅈ',\n",
       "  ['ㄱ', 'ㄹ', 'ㅏ'],\n",
       "  'ㅏ',\n",
       "  'ㅌ',\n",
       "  'ㄷ',\n",
       "  'ㅏ',\n",
       "  '.',\n",
       "  '.',\n",
       "  'ㄴ',\n",
       "  'ㄱ',\n",
       "  'ㅁ',\n",
       "  'ㄹ',\n",
       "  'ㅇ'],\n",
       " [3, 2, 3])"
      ]
     },
     "execution_count": 215,
     "metadata": {},
     "output_type": "execute_result"
    }
   ],
   "source": [
    "boolBoxLen = []\n",
    "recoveredText = []\n",
    "for txt in splitHans:\n",
    "\tif circumventDict.get(txt) == None:\n",
    "\t\trecoveredText.append(txt)\n",
    "\telse:\n",
    "\t\ta = circumventDict.get(txt)\n",
    "\t\tif len(a) == 1:\n",
    "\t\t\trecoveredText.append(a[0])\n",
    "\t\telse:\n",
    "\t\t\tboolBoxLen.append(len(a))\n",
    "\t\t\trecoveredText.append(a)\n",
    "recoveredText, boolBoxLen"
   ]
  },
  {
   "cell_type": "code",
   "execution_count": 216,
   "metadata": {},
   "outputs": [
    {
     "data": {
      "text/plain": [
       "[('ㅇ', 'ㅇ'),\n",
       " ('ㅘ', 'ㅘ'),\n",
       " ('w', 'ㅈ'),\n",
       " ('h', 'ㅗ'),\n",
       " ('s', 'ㄴ'),\n",
       " ('ㄴ', 'ㄴ'),\n",
       " ('ㅏ', 'ㅏ'),\n",
       " ('ㅆ', 'ㅅ'),\n",
       " ('ㅔ', 'ㅔ'),\n",
       " ('t', 'ㅅ'),\n",
       " ('l', 'ㅣ'),\n",
       " ('q', 'ㅂ'),\n",
       " ('k', 'ㅏ'),\n",
       " ('f', 'ㄹ'),\n",
       " (';', ';'),\n",
       " ('r', ['ㄱ', 'ㄹ', 'ㅏ']),\n",
       " ('o', ['ㅇ', 'ㅐ']),\n",
       " ('w', 'ㅈ'),\n",
       " ('h', 'ㅗ'),\n",
       " ('w', 'ㅈ'),\n",
       " ('r', ['ㄱ', 'ㄹ', 'ㅏ']),\n",
       " ('k', 'ㅏ'),\n",
       " ('x', 'ㅌ'),\n",
       " ('e', 'ㄷ'),\n",
       " ('k', 'ㅏ'),\n",
       " ('.', '.'),\n",
       " ('.', '.'),\n",
       " ('L', 'ㄴ'),\n",
       " ('ㄱ', 'ㄱ'),\n",
       " ('ㅁ', 'ㅁ'),\n",
       " ('ㄹ', 'ㄹ'),\n",
       " ('ㅇ', 'ㅇ')]"
      ]
     },
     "execution_count": 216,
     "metadata": {},
     "output_type": "execute_result"
    }
   ],
   "source": [
    "list(zip(splitHans, recoveredText))"
   ]
  },
  {
   "cell_type": "code",
   "execution_count": 217,
   "metadata": {},
   "outputs": [
    {
     "data": {
      "text/plain": [
       "['ㅇㅘㅈㅗㄴㄴㅏㅅㅔㅅㅣㅂㅏㄹ;',\n",
       " ['ㄱ', 'ㄹ', 'ㅏ'],\n",
       " ['ㅇ', 'ㅐ'],\n",
       " 'ㅈㅗㅈ',\n",
       " ['ㄱ', 'ㄹ', 'ㅏ'],\n",
       " 'ㅏㅌㄷㅏ..ㄴㄱㅁㄹㅇ']"
      ]
     },
     "execution_count": 217,
     "metadata": {},
     "output_type": "execute_result"
    }
   ],
   "source": [
    "newRecoveredText = []\n",
    "lastNum = 0\n",
    "for i, txt in enumerate(recoveredText):\n",
    "\tif type(txt) == list:\n",
    "\t\tif lastNum - i != 0:\n",
    "\t\t\tnewRecoveredText.append(\"\".join(recoveredText[lastNum:i]))\n",
    "\t\tnewRecoveredText.append(recoveredText[i])\n",
    "\t\tlastNum = i+1\n",
    "if lastNum - len(recoveredText) - 1 != 0:\n",
    "\tnewRecoveredText.append(\"\".join(recoveredText[lastNum:len(recoveredText)]))\n",
    "newRecoveredText"
   ]
  },
  {
   "cell_type": "code",
   "execution_count": 218,
   "metadata": {},
   "outputs": [
    {
     "data": {
      "text/plain": [
       "[1, 2, 4]"
      ]
     },
     "execution_count": 218,
     "metadata": {},
     "output_type": "execute_result"
    }
   ],
   "source": [
    "listPoses = []\n",
    "for i, item in enumerate(newRecoveredText):\n",
    "    if type(item) == list:\n",
    "        listPoses.append(i)\n",
    "listPoses"
   ]
  },
  {
   "cell_type": "code",
   "execution_count": 219,
   "metadata": {},
   "outputs": [
    {
     "data": {
      "text/plain": [
       "[0, 1, 0]"
      ]
     },
     "execution_count": 219,
     "metadata": {},
     "output_type": "execute_result"
    }
   ],
   "source": [
    "badToHappyDict = module.getBadToHappyDict()\n",
    "fullCount = 1\n",
    "for x in boolBoxLen:\n",
    "\tfullCount *= x\n",
    "\n",
    "convertedTxts = []\n",
    "intBox = [0 for _ in range(len(boolBoxLen))]\n",
    "for _ in range(fullCount):\n",
    "\tfor i in range(len(boolBoxLen)):\n",
    "\t\tif intBox[-i] >= boolBoxLen[-i]:\n",
    "\t\t\tintBox[-i] = 0\n",
    "\t\t\tintBox[-i-1] += 1\n",
    "\ttmp = newRecoveredText.copy()\n",
    "\tfor i in range(len(boolBoxLen)):\n",
    "\t\ttmp[listPoses[i]] = newRecoveredText[listPoses[i]][intBox[i]]\n",
    "\t# print(\"\".join(tmp), end=\", \")\n",
    "\tjoinedJamo = module.joinHan(\"\".join(tmp))\n",
    "\t# print(joinedJamo)\n",
    "\tconvertedTxts.append((module.toHappyWriting(joinedJamo, badToHappyDict)[2] - len(joinedJamo) ,intBox.copy()))\n",
    "\n",
    "\tintBox[-1] += 1\n",
    "predictValue = sorted(convertedTxts, key=lambda x : x[0], reverse=True)[0]\n",
    "predictValue = predictValue[1]\n",
    "predictValue"
   ]
  },
  {
   "cell_type": "code",
   "execution_count": 220,
   "metadata": {},
   "outputs": [
    {
     "data": {
      "text/plain": [
       "['ㅇ',\n",
       " 'ㅘ',\n",
       " 'ㅈ',\n",
       " 'ㅗ',\n",
       " 'ㄴ',\n",
       " 'ㄴ',\n",
       " 'ㅏ',\n",
       " 'ㅅ',\n",
       " 'ㅔ',\n",
       " 'ㅅ',\n",
       " 'ㅣ',\n",
       " 'ㅂ',\n",
       " 'ㅏ',\n",
       " 'ㄹ',\n",
       " ';',\n",
       " 'ㄱ',\n",
       " 'ㅐ',\n",
       " 'ㅈ',\n",
       " 'ㅗ',\n",
       " 'ㅈ',\n",
       " 'ㄱ',\n",
       " 'ㅏ',\n",
       " 'ㅌ',\n",
       " 'ㄷ',\n",
       " 'ㅏ',\n",
       " '.',\n",
       " '.',\n",
       " 'ㄴ',\n",
       " 'ㄱ',\n",
       " 'ㅁ',\n",
       " 'ㄹ',\n",
       " 'ㅇ']"
      ]
     },
     "execution_count": 220,
     "metadata": {},
     "output_type": "execute_result"
    }
   ],
   "source": [
    "realText = []\n",
    "i = 0\n",
    "for txt in recoveredText:\n",
    "\tif type(txt) == list:\n",
    "\t\trealText.append(txt[predictValue[i]])\n",
    "\t\ti += 1\n",
    "\telse:\n",
    "\t\trealText.append(txt)\n",
    "realText"
   ]
  },
  {
   "cell_type": "code",
   "execution_count": 221,
   "metadata": {},
   "outputs": [
    {
     "data": {
      "text/plain": [
       "[(1, '존나', '엄청나게'),\n",
       " (4, '시발', '아니'),\n",
       " (7, '개', '정말'),\n",
       " (8, '좆같다', '기분나쁘다'),\n",
       " (13, 'ㄴㄱ', False)]"
      ]
     },
     "execution_count": 221,
     "metadata": {},
     "output_type": "execute_result"
    }
   ],
   "source": [
    "\n",
    "joinedJamo = module.joinHan(realText)\n",
    "checkedBadwords = []\n",
    "for a in badToHappyDict.keys():\n",
    "\tif a in joinedJamo:\n",
    "\t\tcheckedBadwords.append((joinedJamo.find(a), a, badToHappyDict[a]))\n",
    "checkedBadwords.sort(key=lambda x : x[0])\n",
    "newCheckedBadwords = []\n",
    "i = 0\n",
    "while True:\n",
    "\tif i >= len(checkedBadwords):\n",
    "\t\tbreak\n",
    "\ta = checkedBadwords[i]\n",
    "\tzipIt = []\n",
    "\tzipIt.append(a)\n",
    "\tii = 0\n",
    "\twhile True:\n",
    "\t\tii += 1\n",
    "\t\tif ii + i >= len(checkedBadwords):\n",
    "\t\t\tbreak\n",
    "\t\tb = checkedBadwords[i + ii]\n",
    "\t\tif a[0] != b[0]:\n",
    "\t\t\tbreak\n",
    "\t\telse:\n",
    "\t\t\tzipIt.append(b)\n",
    "\t\t\ti+=1\n",
    "\t\t\tii-=1\n",
    "\tif len(zipIt) != 1:\n",
    "\t\tnewCheckedBadwords.append(sorted(zipIt, key=lambda x : len(x[1]), reverse=True)[0])\n",
    "\telse:\n",
    "\t\tnewCheckedBadwords.append(zipIt[0])\n",
    "\ti+=1\n",
    "newCheckedBadwords"
   ]
  },
  {
   "cell_type": "code",
   "execution_count": 222,
   "metadata": {},
   "outputs": [
    {
     "data": {
      "text/plain": [
       "[2, 5, 7, 9, 11, 14, 15, 17, 20, 23, 25, 26, 27, 28, 29, 30, 31, 32]"
      ]
     },
     "execution_count": 222,
     "metadata": {},
     "output_type": "execute_result"
    }
   ],
   "source": [
    "txtLen = []\n",
    "hap = 0\n",
    "for txt in joinedJamo:\n",
    "    hap += len(module.splitHan(txt))\n",
    "    txtLen.append(hap)\n",
    "txtLen"
   ]
  },
  {
   "cell_type": "code",
   "execution_count": 223,
   "metadata": {},
   "outputs": [
    {
     "data": {
      "text/plain": [
       "[((2, 7), '엄청나게'),\n",
       " ((9, 14), '아니'),\n",
       " ((15, 17), '정말'),\n",
       " ((17, 25), '기분나쁘다'),\n",
       " ((27, 29), False)]"
      ]
     },
     "execution_count": 223,
     "metadata": {},
     "output_type": "execute_result"
    }
   ],
   "source": [
    "replaceDatas = []\n",
    "for item in newCheckedBadwords:\n",
    "\tstart,end=item[0], item[0] + len(item[1])\n",
    "\treplaceDatas.append(((txtLen[start-1], txtLen[end-1]), item[2]))\n",
    "replaceDatas\n"
   ]
  },
  {
   "cell_type": "code",
   "execution_count": 224,
   "metadata": {},
   "outputs": [
    {
     "data": {
      "text/plain": [
       "('와엄청나게쎄아니;정말기분나쁘다..ㅁㄹㅇ', False)"
      ]
     },
     "execution_count": 224,
     "metadata": {},
     "output_type": "execute_result"
    }
   ],
   "source": [
    "canSend = True\n",
    "a = list(splitHans)\n",
    "for item in replaceDatas:\n",
    "\tstart,end = item[0]\n",
    "\treplaceText = [\"\" for _ in range(end-start)]\n",
    "\tif item[1] == False:\n",
    "\t\tcanSend = False\n",
    "\t\ta[start:end] = replaceText\n",
    "\telse:\n",
    "\t\treplaceText[0] = item[1]\n",
    "\t\ta[start:end] = replaceText\n",
    "module.joinHan(\"\".join(a)), canSend"
   ]
  },
  {
   "attachments": {},
   "cell_type": "markdown",
   "metadata": {},
   "source": [
    "성공 ㅠㅠ"
   ]
  }
 ],
 "metadata": {
  "kernelspec": {
   "display_name": "Python 3",
   "language": "python",
   "name": "python3"
  },
  "language_info": {
   "codemirror_mode": {
    "name": "ipython",
    "version": 3
   },
   "file_extension": ".py",
   "mimetype": "text/x-python",
   "name": "python",
   "nbconvert_exporter": "python",
   "pygments_lexer": "ipython3",
   "version": "3.10.5"
  },
  "orig_nbformat": 4
 },
 "nbformat": 4,
 "nbformat_minor": 2
}
