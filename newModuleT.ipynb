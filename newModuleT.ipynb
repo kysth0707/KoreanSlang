{
 "cells": [
  {
   "cell_type": "code",
   "execution_count": 15,
   "metadata": {},
   "outputs": [],
   "source": [
    "import module"
   ]
  },
  {
   "cell_type": "code",
   "execution_count": 16,
   "metadata": {},
   "outputs": [
    {
     "data": {
      "text/plain": [
       "'Lㄱㅁ'"
      ]
     },
     "execution_count": 16,
     "metadata": {},
     "output_type": "execute_result"
    }
   ],
   "source": [
    "circumventDict = module.getCircumventDict()\n",
    "originalText = \"Lㄱㅁ\"\n",
    "\n",
    "splitHans = module.splitHan(originalText)\n",
    "splitHans"
   ]
  },
  {
   "cell_type": "code",
   "execution_count": 17,
   "metadata": {},
   "outputs": [
    {
     "data": {
      "text/plain": [
       "(['ㄴ', 'ㄱ', 'ㅁ'], [])"
      ]
     },
     "execution_count": 17,
     "metadata": {},
     "output_type": "execute_result"
    }
   ],
   "source": [
    "boolBoxLen = []\n",
    "recoveredText = []\n",
    "for txt in splitHans:\n",
    "\tif circumventDict.get(txt) == None:\n",
    "\t\trecoveredText.append(txt)\n",
    "\telse:\n",
    "\t\ta = circumventDict.get(txt)\n",
    "\t\tif len(a) == 1:\n",
    "\t\t\trecoveredText.append(a[0])\n",
    "\t\telse:\n",
    "\t\t\tboolBoxLen.append(len(a))\n",
    "\t\t\trecoveredText.append(a)\n",
    "recoveredText, boolBoxLen"
   ]
  },
  {
   "cell_type": "code",
   "execution_count": 18,
   "metadata": {},
   "outputs": [
    {
     "data": {
      "text/plain": [
       "[('L', 'ㄴ'), ('ㄱ', 'ㄱ'), ('ㅁ', 'ㅁ')]"
      ]
     },
     "execution_count": 18,
     "metadata": {},
     "output_type": "execute_result"
    }
   ],
   "source": [
    "list(zip(splitHans, recoveredText))"
   ]
  },
  {
   "cell_type": "code",
   "execution_count": 19,
   "metadata": {},
   "outputs": [
    {
     "data": {
      "text/plain": [
       "['ㄴㄱㅁ']"
      ]
     },
     "execution_count": 19,
     "metadata": {},
     "output_type": "execute_result"
    }
   ],
   "source": [
    "newRecoveredText = []\n",
    "lastNum = 0\n",
    "for i, txt in enumerate(recoveredText):\n",
    "\tif type(txt) == list:\n",
    "\t\tif lastNum - i != 0:\n",
    "\t\t\tnewRecoveredText.append(\"\".join(recoveredText[lastNum:i]))\n",
    "\t\tnewRecoveredText.append(recoveredText[i])\n",
    "\t\tlastNum = i+1\n",
    "if lastNum - len(recoveredText) - 1 != 0:\n",
    "\tnewRecoveredText.append(\"\".join(recoveredText[lastNum:len(recoveredText)]))\n",
    "newRecoveredText"
   ]
  },
  {
   "cell_type": "code",
   "execution_count": 20,
   "metadata": {},
   "outputs": [
    {
     "data": {
      "text/plain": [
       "[]"
      ]
     },
     "execution_count": 20,
     "metadata": {},
     "output_type": "execute_result"
    }
   ],
   "source": [
    "listPoses = []\n",
    "for i, item in enumerate(newRecoveredText):\n",
    "    if type(item) == list:\n",
    "        listPoses.append(i)\n",
    "listPoses"
   ]
  },
  {
   "cell_type": "code",
   "execution_count": 21,
   "metadata": {},
   "outputs": [
    {
     "data": {
      "text/plain": [
       "[]"
      ]
     },
     "execution_count": 21,
     "metadata": {},
     "output_type": "execute_result"
    }
   ],
   "source": [
    "badToHappyDict = module.getBadToHappyDict()\n",
    "fullCount = 1\n",
    "for x in boolBoxLen:\n",
    "\tfullCount *= x\n",
    "\n",
    "convertedTxts = []\n",
    "intBox = [0 for _ in range(len(boolBoxLen))]\n",
    "for _ in range(fullCount):\n",
    "\tfor i in range(len(boolBoxLen)):\n",
    "\t\tif intBox[-i] >= boolBoxLen[-i]:\n",
    "\t\t\tintBox[-i] = 0\n",
    "\t\t\tintBox[-i-1] += 1\n",
    "\ttmp = newRecoveredText.copy()\n",
    "\tfor i in range(len(boolBoxLen)):\n",
    "\t\ttmp[listPoses[i]] = newRecoveredText[listPoses[i]][intBox[i]]\n",
    "\t# print(\"\".join(tmp), end=\", \")\n",
    "\tjoinedJamo = module.joinHan(\"\".join(tmp))\n",
    "\t# print(joinedJamo)\n",
    "\tconvertedTxts.append((module.toHappyWriting(joinedJamo, badToHappyDict)[2] - len(joinedJamo) ,intBox.copy()))\n",
    "\ttry:\n",
    "\t\tintBox[-1] += 1\n",
    "\texcept:\n",
    "\t\tpass\n",
    "predictValue = sorted(convertedTxts, key=lambda x : x[0], reverse=True)[0]\n",
    "predictValue = predictValue[1]\n",
    "predictValue"
   ]
  },
  {
   "cell_type": "code",
   "execution_count": 22,
   "metadata": {},
   "outputs": [
    {
     "data": {
      "text/plain": [
       "['ㄴ', 'ㄱ', 'ㅁ']"
      ]
     },
     "execution_count": 22,
     "metadata": {},
     "output_type": "execute_result"
    }
   ],
   "source": [
    "realText = []\n",
    "i = 0\n",
    "for txt in recoveredText:\n",
    "\tif type(txt) == list:\n",
    "\t\trealText.append(txt[predictValue[i]])\n",
    "\t\ti += 1\n",
    "\telse:\n",
    "\t\trealText.append(txt)\n",
    "realText"
   ]
  },
  {
   "cell_type": "code",
   "execution_count": 23,
   "metadata": {},
   "outputs": [
    {
     "data": {
      "text/plain": [
       "[(0, 'ㄴㄱ', False)]"
      ]
     },
     "execution_count": 23,
     "metadata": {},
     "output_type": "execute_result"
    }
   ],
   "source": [
    "\n",
    "joinedJamo = module.joinHan(realText)\n",
    "checkedBadwords = []\n",
    "for a in badToHappyDict.keys():\n",
    "\tif a in joinedJamo:\n",
    "\t\tcheckedBadwords.append((joinedJamo.find(a), a, badToHappyDict[a]))\n",
    "checkedBadwords.sort(key=lambda x : x[0])\n",
    "newCheckedBadwords = []\n",
    "i = 0\n",
    "while True:\n",
    "\tif i >= len(checkedBadwords):\n",
    "\t\tbreak\n",
    "\ta = checkedBadwords[i]\n",
    "\tzipIt = []\n",
    "\tzipIt.append(a)\n",
    "\tii = 0\n",
    "\twhile True:\n",
    "\t\tii += 1\n",
    "\t\tif ii + i >= len(checkedBadwords):\n",
    "\t\t\tbreak\n",
    "\t\tb = checkedBadwords[i + ii]\n",
    "\t\tif a[0] != b[0]:\n",
    "\t\t\tbreak\n",
    "\t\telse:\n",
    "\t\t\tzipIt.append(b)\n",
    "\t\t\ti+=1\n",
    "\t\t\tii-=1\n",
    "\tif len(zipIt) != 1:\n",
    "\t\tnewCheckedBadwords.append(sorted(zipIt, key=lambda x : len(x[1]), reverse=True)[0])\n",
    "\telse:\n",
    "\t\tnewCheckedBadwords.append(zipIt[0])\n",
    "\ti+=1\n",
    "newCheckedBadwords"
   ]
  },
  {
   "cell_type": "code",
   "execution_count": 24,
   "metadata": {},
   "outputs": [
    {
     "data": {
      "text/plain": [
       "[1, 2, 3]"
      ]
     },
     "execution_count": 24,
     "metadata": {},
     "output_type": "execute_result"
    }
   ],
   "source": [
    "txtLen = []\n",
    "hap = 0\n",
    "for txt in joinedJamo:\n",
    "    hap += len(module.splitHan(txt))\n",
    "    txtLen.append(hap)\n",
    "txtLen"
   ]
  },
  {
   "cell_type": "code",
   "execution_count": 27,
   "metadata": {},
   "outputs": [
    {
     "name": "stdout",
     "output_type": "stream",
     "text": [
      "0 2\n"
     ]
    },
    {
     "data": {
      "text/plain": [
       "[((3, 2), False)]"
      ]
     },
     "execution_count": 27,
     "metadata": {},
     "output_type": "execute_result"
    }
   ],
   "source": [
    "replaceDatas = []\n",
    "for item in newCheckedBadwords:\n",
    "\tstart,end=item[0], item[0] + len(item[1])\n",
    "\tprint(start,end)\n",
    "\treplaceDatas.append(((txtLen[start-1], txtLen[end-1]), item[2]))\n",
    "replaceDatas\n"
   ]
  },
  {
   "cell_type": "code",
   "execution_count": 26,
   "metadata": {},
   "outputs": [
    {
     "data": {
      "text/plain": [
       "('Lㄱㅁ', False)"
      ]
     },
     "execution_count": 26,
     "metadata": {},
     "output_type": "execute_result"
    }
   ],
   "source": [
    "canSend = True\n",
    "a = list(splitHans)\n",
    "for item in replaceDatas:\n",
    "\tstart,end = item[0]\n",
    "\treplaceText = [\"\" for _ in range(end-start)]\n",
    "\tif item[1] == False:\n",
    "\t\tcanSend = False\n",
    "\t\ta[start:end] = replaceText\n",
    "\telse:\n",
    "\t\treplaceText[0] = item[1]\n",
    "\t\ta[start:end] = replaceText\n",
    "module.joinHan(\"\".join(a)), canSend"
   ]
  },
  {
   "attachments": {},
   "cell_type": "markdown",
   "metadata": {},
   "source": [
    "성공 ㅠㅠ"
   ]
  }
 ],
 "metadata": {
  "kernelspec": {
   "display_name": "Python 3",
   "language": "python",
   "name": "python3"
  },
  "language_info": {
   "codemirror_mode": {
    "name": "ipython",
    "version": 3
   },
   "file_extension": ".py",
   "mimetype": "text/x-python",
   "name": "python",
   "nbconvert_exporter": "python",
   "pygments_lexer": "ipython3",
   "version": "3.10.5"
  },
  "orig_nbformat": 4
 },
 "nbformat": 4,
 "nbformat_minor": 2
}
